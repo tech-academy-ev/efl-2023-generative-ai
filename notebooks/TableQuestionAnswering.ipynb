{
 "cells": [
  {
   "cell_type": "markdown",
   "id": "5d78f740-b429-4da7-9453-e8e6b094d59e",
   "metadata": {},
   "source": [
    "# Table Question Answering"
   ]
  },
  {
   "cell_type": "code",
   "execution_count": 1,
   "id": "af9f4d44-dfe4-44fb-b059-a8a82bd9b2c6",
   "metadata": {},
   "outputs": [
    {
     "name": "stdout",
     "output_type": "stream",
     "text": [
      "Requirement already satisfied: protobuf==3.20.* in c:\\users\\bisch\\anaconda3\\lib\\site-packages (3.20.3)\n",
      "Requirement already satisfied: transformers in c:\\users\\bisch\\anaconda3\\lib\\site-packages (4.35.0)\n",
      "Requirement already satisfied: filelock in c:\\users\\bisch\\anaconda3\\lib\\site-packages (from transformers) (3.9.0)\n",
      "Requirement already satisfied: huggingface-hub<1.0,>=0.16.4 in c:\\users\\bisch\\anaconda3\\lib\\site-packages (from transformers) (0.16.4)\n",
      "Requirement already satisfied: numpy>=1.17 in c:\\users\\bisch\\anaconda3\\lib\\site-packages (from transformers) (1.24.3)\n",
      "Requirement already satisfied: packaging>=20.0 in c:\\users\\bisch\\anaconda3\\lib\\site-packages (from transformers) (23.0)\n",
      "Requirement already satisfied: pyyaml>=5.1 in c:\\users\\bisch\\anaconda3\\lib\\site-packages (from transformers) (6.0)\n",
      "Requirement already satisfied: regex!=2019.12.17 in c:\\users\\bisch\\anaconda3\\lib\\site-packages (from transformers) (2022.7.9)\n",
      "Requirement already satisfied: requests in c:\\users\\bisch\\anaconda3\\lib\\site-packages (from transformers) (2.29.0)\n",
      "Requirement already satisfied: tokenizers<0.15,>=0.14 in c:\\users\\bisch\\anaconda3\\lib\\site-packages (from transformers) (0.14.0)\n",
      "Requirement already satisfied: safetensors>=0.3.1 in c:\\users\\bisch\\anaconda3\\lib\\site-packages (from transformers) (0.4.0)\n",
      "Requirement already satisfied: tqdm>=4.27 in c:\\users\\bisch\\anaconda3\\lib\\site-packages (from transformers) (4.65.0)\n",
      "Requirement already satisfied: fsspec in c:\\users\\bisch\\anaconda3\\lib\\site-packages (from huggingface-hub<1.0,>=0.16.4->transformers) (2023.3.0)\n",
      "Requirement already satisfied: typing-extensions>=3.7.4.3 in c:\\users\\bisch\\anaconda3\\lib\\site-packages (from huggingface-hub<1.0,>=0.16.4->transformers) (4.6.3)\n",
      "Requirement already satisfied: colorama in c:\\users\\bisch\\anaconda3\\lib\\site-packages (from tqdm>=4.27->transformers) (0.4.6)\n",
      "Requirement already satisfied: charset-normalizer<4,>=2 in c:\\users\\bisch\\anaconda3\\lib\\site-packages (from requests->transformers) (2.0.4)\n",
      "Requirement already satisfied: idna<4,>=2.5 in c:\\users\\bisch\\anaconda3\\lib\\site-packages (from requests->transformers) (3.4)\n",
      "Requirement already satisfied: urllib3<1.27,>=1.21.1 in c:\\users\\bisch\\anaconda3\\lib\\site-packages (from requests->transformers) (1.26.16)\n",
      "Requirement already satisfied: certifi>=2017.4.17 in c:\\users\\bisch\\anaconda3\\lib\\site-packages (from requests->transformers) (2023.7.22)\n",
      "Note: you may need to restart the kernel to use updated packages.\n"
     ]
    }
   ],
   "source": [
    "import warnings\n",
    "warnings.filterwarnings('ignore')\n",
    "%pip install --upgrade protobuf==3.20.* transformers\n",
    "from transformers import pipeline"
   ]
  },
  {
   "cell_type": "code",
   "execution_count": 2,
   "id": "0b1b3df5-6214-4de5-aa7e-39442aef3bb2",
   "metadata": {},
   "outputs": [
    {
     "data": {
      "application/vnd.jupyter.widget-view+json": {
       "model_id": "6fc0531626c74d0eba247572970f1117",
       "version_major": 2,
       "version_minor": 0
      },
      "text/plain": [
       "Downloading (…)lve/main/config.json:   0%|          | 0.00/1.66k [00:00<?, ?B/s]"
      ]
     },
     "metadata": {},
     "output_type": "display_data"
    },
    {
     "data": {
      "application/vnd.jupyter.widget-view+json": {
       "model_id": "70fdd6bd69374a02961c896844fce15a",
       "version_major": 2,
       "version_minor": 0
      },
      "text/plain": [
       "Downloading pytorch_model.bin:   0%|          | 0.00/443M [00:00<?, ?B/s]"
      ]
     },
     "metadata": {},
     "output_type": "display_data"
    },
    {
     "data": {
      "application/vnd.jupyter.widget-view+json": {
       "model_id": "6102c2d662bf4314962a12512fcff58e",
       "version_major": 2,
       "version_minor": 0
      },
      "text/plain": [
       "Downloading (…)okenizer_config.json:   0%|          | 0.00/490 [00:00<?, ?B/s]"
      ]
     },
     "metadata": {},
     "output_type": "display_data"
    },
    {
     "data": {
      "application/vnd.jupyter.widget-view+json": {
       "model_id": "92cf68c4d5824f9bbfca5bece968b6fd",
       "version_major": 2,
       "version_minor": 0
      },
      "text/plain": [
       "Downloading (…)solve/main/vocab.txt:   0%|          | 0.00/262k [00:00<?, ?B/s]"
      ]
     },
     "metadata": {},
     "output_type": "display_data"
    },
    {
     "data": {
      "application/vnd.jupyter.widget-view+json": {
       "model_id": "236be52e335d4ab5b7c14404f8ce23a7",
       "version_major": 2,
       "version_minor": 0
      },
      "text/plain": [
       "Downloading (…)cial_tokens_map.json:   0%|          | 0.00/154 [00:00<?, ?B/s]"
      ]
     },
     "metadata": {},
     "output_type": "display_data"
    }
   ],
   "source": [
    "model = pipeline(task=\"table-question-answering\", model = \"google/tapas-base-finetuned-wtq\")"
   ]
  },
  {
   "cell_type": "code",
   "execution_count": 3,
   "id": "f8329d82-238b-4b44-ae60-f0dceb8ca06f",
   "metadata": {},
   "outputs": [],
   "source": [
    "# This is the data table containing the data\n",
    "table = {\n",
    "    \"Topic\": [\"WELCOME & INTRODUCTION TO GENERATIVE AI\", \"WELCOME & FUTURE PLANS OF DEUTSCHE BUNDESBANK WITH GENERATIVE AI\", \"AI IN FINANCE: OPPORTUNITIES AND CHALLENGES\", \"HARNESSING THE POWER OF LANGUAGE MODELS IN HIGHER EDUCATION: TEACHING, RESEARCH, AND ADMINISTRATION\", \"CREATING SYNTHETIC EXPERTS WITH GENERATIVE AI\", \"PRIVACY IN GENERATIVE AI: A MYTH OR JUST HARD?\", \"CHALLENGES OF GENERATIVE AI WHEN DEALING WITH BIG TECH\", \"HARNESSING AI TO RESHAPE THE SUSTAINABILITY DATA LANDSCAPE\", \"GENERATIVE AI ACTIVITIES OF THE EFL – THE DATA SCIENCE INSTITUTE\"],\n",
    "    \"Start\": [\"14:30\", \"14:45\", \"14:55\", \"15:25\", \"16:25\", \"16:55\", \"17:55\", \"18:25\", \"18:40\"],\n",
    "    \"Speaker\": [\"Prof. Dr. Bernd Skiera\", \"Prof. Stefan Bender\", \"Dr. Andreas Totok\", \"Prof. Dr. Frauke Kreuter\", \"Prof. Dr. Daniel Ringel\", \"Prof. Dr. Ivan Habernal\", \"Prof. Dr. Thomas Höppner\", \"Prof. Dr. Gabriela Alves Werb\", \"Prof. Dr. Oliver Hinz\"],\n",
    "    \"Affiliation\": [\"efl – The Data Science Institute, Goethe University Frankfurt\", \"Deutsche Bundesbank\", \"Finanz Informatik Solutions Plus\", \"LMU Munich, University of Maryland\", \"University of North Carolina at Chapel Hill\", \"Paderborn University, TU Darmstadt\", \"Hausfeld\", \"Deutsche Bundesbank, Frankfurt University of Applied Sciences\", \"efl – The Data Science Institute, Goethe University Frankfurt\"]\n",
    "}"
   ]
  },
  {
   "cell_type": "code",
   "execution_count": 8,
   "id": "d9254eb6-37fb-4ee9-b88e-b54b9c72b129",
   "metadata": {},
   "outputs": [
    {
     "data": {
      "text/plain": [
       "'WELCOME & INTRODUCTION TO GENERATIVE AI'"
      ]
     },
     "execution_count": 8,
     "metadata": {},
     "output_type": "execute_result"
    }
   ],
   "source": [
    "question1 = \"What topic corresponds to the speaker Prof. Dr. Bernd Skiera?\"\n",
    "model(query=question1, table=table)[\"answer\"]"
   ]
  },
  {
   "cell_type": "code",
   "execution_count": 9,
   "id": "031fa355-c5fa-4e3b-a0a9-c48ba02456b9",
   "metadata": {},
   "outputs": [
    {
     "data": {
      "text/plain": [
       "'18:25'"
      ]
     },
     "execution_count": 9,
     "metadata": {},
     "output_type": "execute_result"
    }
   ],
   "source": [
    "question2 = \"When does the presentation about 'HARNESSING AI TO RESHAPE THE SUSTAINABILITY DATA LANDSCAPE' start?\"\n",
    "model(query=question2, table=table)[\"answer\"]"
   ]
  },
  {
   "cell_type": "code",
   "execution_count": 10,
   "id": "e79251cb-8c15-42a5-a7ee-bbaa7eae9d4a",
   "metadata": {},
   "outputs": [
    {
     "data": {
      "text/plain": [
       "'LMU Munich, University of Maryland'"
      ]
     },
     "execution_count": 10,
     "metadata": {},
     "output_type": "execute_result"
    }
   ],
   "source": [
    "question3 = \"What affiliation has Prof. Dr. Frauke Kreuter?\"\n",
    "model(query=question3, table=table)[\"answer\"]"
   ]
  },
  {
   "cell_type": "code",
   "execution_count": 11,
   "id": "15bc3373-6850-4ea4-b9c7-1d092b74e13f",
   "metadata": {},
   "outputs": [
    {
     "data": {
      "text/plain": [
       "'18:25'"
      ]
     },
     "execution_count": 11,
     "metadata": {},
     "output_type": "execute_result"
    }
   ],
   "source": [
    "question4 = \"When does the presentation about 'Harnessing AI to reshape the sustainability data landscape' start?\"\n",
    "model(query=question4, table=table)[\"answer\"]"
   ]
  },
  {
   "cell_type": "code",
   "execution_count": 12,
   "id": "73e898e6",
   "metadata": {},
   "outputs": [
    {
     "data": {
      "text/plain": [
       "'14:30'"
      ]
     },
     "execution_count": 12,
     "metadata": {},
     "output_type": "execute_result"
    }
   ],
   "source": [
    "question5 = \"When does Bernd Skiera's presentation start?\"\n",
    "model(query=question5, table=table)[\"answer\"]"
   ]
  },
  {
   "cell_type": "code",
   "execution_count": 13,
   "id": "3cdcc98b",
   "metadata": {},
   "outputs": [
    {
     "data": {
      "text/plain": [
       "'AVERAGE > 14:30'"
      ]
     },
     "execution_count": 13,
     "metadata": {},
     "output_type": "execute_result"
    }
   ],
   "source": [
    "question6 = \"When is a refreshment break?\"\n",
    "model(query=question6, table=table)[\"answer\"]"
   ]
  },
  {
   "cell_type": "code",
   "execution_count": 16,
   "id": "80bbb493",
   "metadata": {},
   "outputs": [
    {
     "data": {
      "text/plain": [
       "'Prof. Dr. Bernd Skiera'"
      ]
     },
     "execution_count": 16,
     "metadata": {},
     "output_type": "execute_result"
    }
   ],
   "source": [
    "question7 = \"Who talks about activities of the efl institute?\"\n",
    "model(query=question7, table=table)[\"answer\"]"
   ]
  }
 ],
 "metadata": {
  "kernelspec": {
   "display_name": "Python 3 (ipykernel)",
   "language": "python",
   "name": "python3"
  },
  "language_info": {
   "codemirror_mode": {
    "name": "ipython",
    "version": 3
   },
   "file_extension": ".py",
   "mimetype": "text/x-python",
   "name": "python",
   "nbconvert_exporter": "python",
   "pygments_lexer": "ipython3",
   "version": "3.11.5"
  }
 },
 "nbformat": 4,
 "nbformat_minor": 5
}
